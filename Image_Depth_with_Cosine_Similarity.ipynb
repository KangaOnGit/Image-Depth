{
  "nbformat": 4,
  "nbformat_minor": 0,
  "metadata": {
    "colab": {
      "provenance": [],
      "authorship_tag": "ABX9TyP7TYd8uK0gVRZIeH/ut/OE",
      "include_colab_link": true
    },
    "kernelspec": {
      "name": "python3",
      "display_name": "Python 3"
    },
    "language_info": {
      "name": "python"
    }
  },
  "cells": [
    {
      "cell_type": "markdown",
      "metadata": {
        "id": "view-in-github",
        "colab_type": "text"
      },
      "source": [
        "<a href=\"https://colab.research.google.com/github/KhangTheKangaroo/Image-Depth/blob/main/Image_Depth_with_Cosine_Similarity.ipynb\" target=\"_parent\"><img src=\"https://colab.research.google.com/assets/colab-badge.svg\" alt=\"Open In Colab\"/></a>"
      ]
    },
    {
      "cell_type": "code",
      "execution_count": 1,
      "metadata": {
        "id": "k8vbfhSElREO"
      },
      "outputs": [],
      "source": [
        "import cv2\n",
        "import numpy as np\n",
        "from google.colab.patches import cv2_imshow"
      ]
    },
    {
      "cell_type": "code",
      "source": [
        "!gdown --id 14gf8bcym_lTcvjZQmg8kwq3aXkENBxMQ\n",
        "!unzip tsukuba.zip -d tsukuba\n",
        "\n",
        "!gdown --id 1wxmiUdqMciuTOs0ouKEISl8-iTVXdOWn\n",
        "!unzip Aloe_images.zip -d Aloe_images"
      ],
      "metadata": {
        "colab": {
          "base_uri": "https://localhost:8080/"
        },
        "id": "ok9exOkPlfKZ",
        "outputId": "638c2d08-5b33-4ac7-d2a8-fa0d8b79055e"
      },
      "execution_count": 2,
      "outputs": [
        {
          "output_type": "stream",
          "name": "stdout",
          "text": [
            "/usr/local/lib/python3.10/dist-packages/gdown/__main__.py:132: FutureWarning: Option `--id` was deprecated in version 4.3.1 and will be removed in 5.0. You don't need to pass it anymore to use a file ID.\n",
            "  warnings.warn(\n",
            "Downloading...\n",
            "From: https://drive.google.com/uc?id=14gf8bcym_lTcvjZQmg8kwq3aXkENBxMQ\n",
            "To: /content/tsukuba.zip\n",
            "100% 354k/354k [00:00<00:00, 74.3MB/s]\n",
            "Archive:  tsukuba.zip\n",
            "warning:  stripped absolute path spec from /\n",
            "mapname:  conversion of  failed\n",
            " extracting: tsukuba/left.png        \n",
            " extracting: tsukuba/right.png       \n",
            " extracting: tsukuba/groundtruth.png  \n",
            "/usr/local/lib/python3.10/dist-packages/gdown/__main__.py:132: FutureWarning: Option `--id` was deprecated in version 4.3.1 and will be removed in 5.0. You don't need to pass it anymore to use a file ID.\n",
            "  warnings.warn(\n",
            "Downloading...\n",
            "From: https://drive.google.com/uc?id=1wxmiUdqMciuTOs0ouKEISl8-iTVXdOWn\n",
            "To: /content/Aloe_images.zip\n",
            "100% 1.32M/1.32M [00:00<00:00, 71.2MB/s]\n",
            "Archive:  Aloe_images.zip\n",
            "  inflating: Aloe_images/Aloe/Aloe_left_1.png  \n",
            "  inflating: Aloe_images/Aloe/Aloe_right_3.png  \n",
            "  inflating: Aloe_images/Aloe/Aloe_right_1.png  \n",
            "  inflating: Aloe_images/Aloe/Aloe_right_2.png  \n",
            "  inflating: Aloe_images/Aloe/Disparity_map_corr.png  \n"
          ]
        }
      ]
    },
    {
      "cell_type": "code",
      "source": [
        "def cosine_similarity (x, y): # Computes cosine similarity\n",
        "  numerator = np.dot (x, y)\n",
        "  denominator = np.linalg.norm(x) * np.linalg.norm(y)\n",
        "\n",
        "  return numerator / denominator"
      ],
      "metadata": {
        "id": "j4jAbtUGlgWZ"
      },
      "execution_count": 3,
      "outputs": []
    },
    {
      "cell_type": "code",
      "source": [
        "def window_based_matching_cosine_similarity(left_img, right_img, disparity_range, kernel_size=5, save_result=True):\n",
        "\n",
        "    # Read the images and convert them to grayscale\n",
        "    left  = cv2.imread(left_img, 0)\n",
        "    right = cv2.imread(right_img, 0)\n",
        "\n",
        "    # Convert to float32\n",
        "    left  = left.astype(np.float32)\n",
        "    right = right.astype(np.float32)\n",
        "\n",
        "    h, w = left.shape[:2] # Get height and width of left image\n",
        "\n",
        "\n",
        "    disparity_map = np.zeros((h, w), np.uint8) # Matrix creation\n",
        "    kernel_half = int((kernel_size - 1) / 2)\n",
        "    scale = 3\n",
        "\n",
        "    for y in range(kernel_half, h - kernel_half):\n",
        "        for x in range(kernel_half, w - kernel_half):\n",
        "\n",
        "            # Find disparity where cost is the lowest\n",
        "            disparity = 0\n",
        "            cost_optimal  = -1\n",
        "\n",
        "            for j in range(disparity_range):\n",
        "                d = x - j\n",
        "                cost = -1\n",
        "                if (d - kernel_half) > 0:\n",
        "                    wp = left[(y - kernel_half) : (y + kernel_half) + 1, (x - kernel_half):(x + kernel_half) + 1]\n",
        "                    wqd = right[(y - kernel_half) : (y + kernel_half) + 1, (d - kernel_half):(d + kernel_half) + 1]\n",
        "\n",
        "                    # Flatten to 1D\n",
        "                    wp_flattened = wp.flatten()\n",
        "                    wqd_flattened = wqd.flatten()\n",
        "\n",
        "                    cost = cosine_similarity(wp_flattened, wqd_flattened)\n",
        "\n",
        "                if cost > cost_optimal:\n",
        "                    cost_optimal = cost\n",
        "                    disparity = j\n",
        "\n",
        "\n",
        "            disparity_map[y, x] = disparity * scale # Update matrix with disparity where cost is the lowest\n",
        "\n",
        "    if save_result == True:\n",
        "        cv2.imwrite('window_based_cosine_similarity.png', disparity_map)\n",
        "        cv2.imwrite('window_based_cosine_similarity_color.png', cv2.applyColorMap(disparity_map, cv2.COLORMAP_JET))\n",
        "\n",
        "\n",
        "    return disparity_map"
      ],
      "metadata": {
        "id": "8YPnTWNslh1w"
      },
      "execution_count": 11,
      "outputs": []
    },
    {
      "cell_type": "code",
      "source": [
        "left_img_path = '/content/Aloe_images/Aloe/Aloe_left_1.png'\n",
        "right_img_path = '/content/Aloe_images/Aloe/Aloe_right_1.png'\n",
        "disparity_range = 64\n",
        "kernel_size = 5\n",
        "\n",
        "\n",
        "depth_cosine_similarity = window_based_matching_cosine_similarity(left_img_path, right_img_path, kernel_size = kernel_size, disparity_range = 64, save_result = True)\n",
        "\n",
        "cv2_imshow(depth_cosine_similarity)\n",
        "cv2_imshow(cv2.applyColorMap(depth_cosine_similarity, cv2.COLORMAP_JET))"
      ],
      "metadata": {
        "id": "x7hHPOsxl62i"
      },
      "execution_count": null,
      "outputs": []
    }
  ]
}