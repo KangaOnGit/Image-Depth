{
  "nbformat": 4,
  "nbformat_minor": 0,
  "metadata": {
    "colab": {
      "provenance": [],
      "authorship_tag": "ABX9TyPMAeGflvu9D3lNE52Y41JQ",
      "include_colab_link": true
    },
    "kernelspec": {
      "name": "python3",
      "display_name": "Python 3"
    },
    "language_info": {
      "name": "python"
    }
  },
  "cells": [
    {
      "cell_type": "markdown",
      "metadata": {
        "id": "view-in-github",
        "colab_type": "text"
      },
      "source": [
        "<a href=\"https://colab.research.google.com/github/KhangTheKangaroo/Image-Depth/blob/main/Image_Depth_with_Window_Based_Matching.ipynb\" target=\"_parent\"><img src=\"https://colab.research.google.com/assets/colab-badge.svg\" alt=\"Open In Colab\"/></a>"
      ]
    },
    {
      "cell_type": "code",
      "execution_count": 1,
      "metadata": {
        "id": "iMU9BEfalRSu"
      },
      "outputs": [],
      "source": [
        "import cv2\n",
        "import numpy as np\n",
        "from google.colab.patches import cv2_imshow"
      ]
    },
    {
      "cell_type": "code",
      "source": [
        "# Download and unzip test images\n",
        "\n",
        "!gdown --id 14gf8bcym_lTcvjZQmg8kwq3aXkENBxMQ\n",
        "!unzip tsukuba.zip -d tsukuba\n",
        "\n",
        "!gdown --id 1wxmiUdqMciuTOs0ouKEISl8-iTVXdOWn\n",
        "!unzip Aloe_images.zip -d Aloe_images"
      ],
      "metadata": {
        "colab": {
          "base_uri": "https://localhost:8080/"
        },
        "id": "7k1Psii7lS1a",
        "outputId": "51397f8a-78ed-464e-ddba-9d8946d7c2aa"
      },
      "execution_count": 2,
      "outputs": [
        {
          "output_type": "stream",
          "name": "stdout",
          "text": [
            "/usr/local/lib/python3.10/dist-packages/gdown/__main__.py:132: FutureWarning: Option `--id` was deprecated in version 4.3.1 and will be removed in 5.0. You don't need to pass it anymore to use a file ID.\n",
            "  warnings.warn(\n",
            "Downloading...\n",
            "From: https://drive.google.com/uc?id=14gf8bcym_lTcvjZQmg8kwq3aXkENBxMQ\n",
            "To: /content/tsukuba.zip\n",
            "100% 354k/354k [00:00<00:00, 46.5MB/s]\n",
            "Archive:  tsukuba.zip\n",
            "warning:  stripped absolute path spec from /\n",
            "mapname:  conversion of  failed\n",
            " extracting: tsukuba/left.png        \n",
            " extracting: tsukuba/right.png       \n",
            " extracting: tsukuba/groundtruth.png  \n",
            "/usr/local/lib/python3.10/dist-packages/gdown/__main__.py:132: FutureWarning: Option `--id` was deprecated in version 4.3.1 and will be removed in 5.0. You don't need to pass it anymore to use a file ID.\n",
            "  warnings.warn(\n",
            "Downloading...\n",
            "From: https://drive.google.com/uc?id=1wxmiUdqMciuTOs0ouKEISl8-iTVXdOWn\n",
            "To: /content/Aloe_images.zip\n",
            "100% 1.32M/1.32M [00:00<00:00, 44.7MB/s]\n",
            "Archive:  Aloe_images.zip\n",
            "  inflating: Aloe_images/Aloe/Aloe_left_1.png  \n",
            "  inflating: Aloe_images/Aloe/Aloe_right_3.png  \n",
            "  inflating: Aloe_images/Aloe/Aloe_right_1.png  \n",
            "  inflating: Aloe_images/Aloe/Aloe_right_2.png  \n",
            "  inflating: Aloe_images/Aloe/Disparity_map_corr.png  \n"
          ]
        }
      ]
    },
    {
      "cell_type": "code",
      "source": [
        "def l1_distance(x, y): # Computes L1 Distance\n",
        "  return abs(x-y)\n",
        "\n",
        "def l2_distance(x,y): # Computes L2 Distance\n",
        "  return ((x-y)**2)"
      ],
      "metadata": {
        "id": "-Pn2wtN0lToy"
      },
      "execution_count": 3,
      "outputs": []
    },
    {
      "cell_type": "code",
      "source": [
        "def window_based_matching_L1(left_img, right_img, disparity_range, kernel_size=5, save_result=True):\n",
        "\n",
        "    # Read both images and convert them to grayscale\n",
        "    left  = cv2.imread(left_img, 0)\n",
        "    right = cv2.imread(right_img, 0)\n",
        "\n",
        "    # Convert images to float32\n",
        "    left  = left.astype(np.float32)\n",
        "    right = right.astype(np.float32)\n",
        "\n",
        "    h, w = left.shape[:2] # Get the height and width of left img\n",
        "\n",
        "\n",
        "    disparity_map = np.zeros((h, w), np.uint8) # Matrix Creation\n",
        "\n",
        "    kernel_half = int((kernel_size - 1) / 2)\n",
        "    scale = 3\n",
        "    max_value = 255\n",
        "\n",
        "    for y in range(kernel_half, h - kernel_half):\n",
        "        for x in range(kernel_half, w - kernel_half):\n",
        "\n",
        "            # Find disparity where cost is the lowest\n",
        "            disparity = 0\n",
        "            cost_min  = 65534\n",
        "\n",
        "            for j in range(disparity_range):\n",
        "                total = 0\n",
        "                value = 0\n",
        "\n",
        "                for v in range(-kernel_half, kernel_half + 1):\n",
        "                    for u in range(-kernel_half, kernel_half + 1):\n",
        "                        value = max_value\n",
        "                        if (x + u - j) >= 0:\n",
        "                            value = l1_distance(int(left[y + v, x + u]),  int(right[y + v, (x + u) - j]))\n",
        "                        total += value\n",
        "\n",
        "                if total < cost_min:\n",
        "                    cost_min = total\n",
        "                    disparity = j\n",
        "\n",
        "\n",
        "            disparity_map[y, x] = disparity * scale # Update matrix with disparity where cost is the lowest\n",
        "\n",
        "    if save_result == True:\n",
        "      cv2.imwrite('window_based_matching_l1.png', disparity_map)\n",
        "      cv2.imwrite('window_based_matching_l1_color.png', cv2.applyColorMap(disparity_map, cv2.COLORMAP_JET))\n",
        "    return disparity_map\n",
        "\n",
        "def window_based_matching_L2(left_img, right_img, disparity_range, kernel_size=5, save_result=True):\n",
        "\n",
        "    # Read both images and convert them to grayscale\n",
        "    left  = cv2.imread(left_img, 0)\n",
        "    right = cv2.imread(right_img, 0)\n",
        "\n",
        "    # Convert images to float32\n",
        "    left  = left.astype(np.float32)\n",
        "    right = right.astype(np.float32)\n",
        "\n",
        "    h, w = left.shape[:2] # Get the height and width of left img\n",
        "\n",
        "\n",
        "    disparity_map = np.zeros((h, w), np.uint8) # Matrix Creation\n",
        "\n",
        "    kernel_half = int((kernel_size - 1) / 2)\n",
        "    scale = 3\n",
        "    max_value = 255\n",
        "\n",
        "    for y in range(kernel_half, h - kernel_half):\n",
        "        for x in range(kernel_half, w - kernel_half):\n",
        "\n",
        "            # Find disparity where cost is the lowest\n",
        "            disparity = 0\n",
        "            cost_min  = 65534\n",
        "\n",
        "            for j in range(disparity_range):\n",
        "                total = 0\n",
        "                value = 0\n",
        "\n",
        "                for v in range(-kernel_half, kernel_half + 1):\n",
        "                    for u in range(-kernel_half, kernel_half + 1):\n",
        "                        value = max_value\n",
        "                        if (x + u - j) >= 0:\n",
        "                            value = l1_distance(int(left[y + v, x + u]),  int(right[y + v, (x + u) - j]))\n",
        "                        total += value\n",
        "\n",
        "                if total < cost_min:\n",
        "                    cost_min = total\n",
        "                    disparity = j\n",
        "\n",
        "\n",
        "            disparity_map[y, x] = disparity * scale # Update matrix with disparity where cost is the lowest\n",
        "\n",
        "    if save_result == True:\n",
        "      cv2.imwrite('window_based_matching_l2.png', disparity_map)\n",
        "      cv2.imwrite('window_based_matching_l2_color.png', cv2.applyColorMap(disparity_map, cv2.COLORMAP_JET))\n",
        "    return disparity_map"
      ],
      "metadata": {
        "id": "nKaIEdrMlUnh"
      },
      "execution_count": 6,
      "outputs": []
    },
    {
      "cell_type": "code",
      "source": [
        "left_img_path = '/content/Aloe_images/Aloe/Aloe_left_1.png'\n",
        "right_img_path = '/content/Aloe_images/Aloe/Aloe_right_1.png'\n",
        "disparity_range = 64\n",
        "kernel_size = 3\n",
        "\n",
        "depth_l1 = window_based_matching_l1(left_img_path, right_img_path, disparity_range, kernel_size = kernel_size, save_result = True)\n",
        "depth_l2 = window_based_matching_l2(left_img_path, right_img_path, disparity_range, kernel_size = kernel_size, save_result = True)\n",
        "\n",
        "cv2_imshow(depth_l1)\n",
        "cv2_imshow(cv2.applyColorMap(depth_l1, cv2.COLORMAP_JET))\n",
        "\n",
        "cv2_imshow(depth_l2)\n",
        "cv2_imshow(cv2.applyColorMap(depth_l2, cv2.COLORMAP_JET))"
      ],
      "metadata": {
        "id": "-ao3t21QlXc6"
      },
      "execution_count": null,
      "outputs": []
    }
  ]
}