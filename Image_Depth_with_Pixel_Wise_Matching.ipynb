{
  "nbformat": 4,
  "nbformat_minor": 0,
  "metadata": {
    "colab": {
      "provenance": [],
      "gpuType": "T4",
      "authorship_tag": "ABX9TyNgqwpAddM92dm6qossgj1T",
      "include_colab_link": true
    },
    "kernelspec": {
      "name": "python3",
      "display_name": "Python 3"
    },
    "language_info": {
      "name": "python"
    },
    "accelerator": "GPU"
  },
  "cells": [
    {
      "cell_type": "markdown",
      "metadata": {
        "id": "view-in-github",
        "colab_type": "text"
      },
      "source": [
        "<a href=\"https://colab.research.google.com/github/KhangTheKangaroo/Image-Depth/blob/main/Image_Depth_with_Pixel_Wise_Matching.ipynb\" target=\"_parent\"><img src=\"https://colab.research.google.com/assets/colab-badge.svg\" alt=\"Open In Colab\"/></a>"
      ]
    },
    {
      "cell_type": "code",
      "execution_count": null,
      "metadata": {
        "id": "V4HG_fSMWKk-"
      },
      "outputs": [],
      "source": [
        "import cv2\n",
        "import numpy as np\n",
        "from google.colab.patches import cv2_imshow"
      ]
    },
    {
      "cell_type": "code",
      "source": [
        "# Download and unzip test images\n",
        "\n",
        "!gdown --id 14gf8bcym_lTcvjZQmg8kwq3aXkENBxMQ\n",
        "!unzip tsukuba.zip -d tsukuba\n",
        "\n",
        "!gdown --id 1wxmiUdqMciuTOs0ouKEISl8-iTVXdOWn\n",
        "!unzip Aloe_images.zip -d Aloe_images"
      ],
      "metadata": {
        "id": "30jNZyvTaofN"
      },
      "execution_count": null,
      "outputs": []
    },
    {
      "cell_type": "code",
      "source": [
        "def l1_distance(x, y): # Computes L1 Distance\n",
        "  return abs(x-y)\n",
        "\n",
        "def l2_distance(x,y): # Computes L2 Distance\n",
        "  return ((x-y)**2)"
      ],
      "metadata": {
        "id": "UuxiAwYdaXG0"
      },
      "execution_count": 25,
      "outputs": []
    },
    {
      "cell_type": "code",
      "source": [
        "def pixel_wise_matching_L1(left_img, right_img, disparity_range, save_result = True):\n",
        "\n",
        "  # Read both images and convert them to grayscale\n",
        "  left = cv2.imread(left_img, 0)\n",
        "  right = cv2.imread(right_img, 0)\n",
        "  # Convert to float32\n",
        "  left = left.astype(np.float32)\n",
        "  right = right.astype(np.float32)\n",
        "\n",
        "  h, w = left.shape[:2] # Get the height and width of left img\n",
        "\n",
        "  disparity_map = np.zeros((h, w), np.uint8) # Matrix creation\n",
        "  scale = 16\n",
        "  max_val = 255\n",
        "\n",
        "  # Compute L1 between left and right img\n",
        "  for y in range(h):\n",
        "    for x in range(w):\n",
        "      # Find the disparity where cost is the lowest\n",
        "      disparity = 0\n",
        "      min_cost = max_val\n",
        "      for j in range(disparity_range):\n",
        "        cost = max_val if (x - j) < 0 else l1_distance(int(left[y, x]), int(right[y, x - j]))\n",
        "        if cost < min_cost:\n",
        "          min_cost = cost\n",
        "          disparity = j\n",
        "\n",
        "      disparity_map[y, x] = disparity * scale # Update matrix with disparity where cos is the lowest\n",
        "\n",
        "  if save_result:\n",
        "    cv2.imwrite('pixel_wise_l1.png', disparity_map)\n",
        "    cv2.imwrite('pixel_wise_l1_color.png', cv2.applyColorMap(disparity_map, cv2.COLORMAP_JET))\n",
        "\n",
        "  return disparity_map\n",
        "\n",
        "def pixel_wise_matching_L2(left_img, right_img, disparity_range, save_result = True):\n",
        "\n",
        "  # Read both images and convert them to grayscale\n",
        "  left = cv2.imread(left_img, 0)\n",
        "  right = cv2.imread(right_img, 0)\n",
        "\n",
        "  # Convert to float32\n",
        "  left = left.astype(np.float32)\n",
        "  right = right.astype(np.float32)\n",
        "\n",
        "  h, w = left.shape[:2] # Get the height and width of left img\n",
        "\n",
        "  disparity_map = np.zeros((h, w), np.uint8) # Matrix creation\n",
        "  scale = 16\n",
        "  max_val = 255 ** 2\n",
        "\n",
        "  # Compute L1 between left and right img\n",
        "  for y in range(h):\n",
        "    for x in range(w):\n",
        "      # Find the disparity where cost is the lowest\n",
        "      disparity = 0\n",
        "      min_cost = max_val\n",
        "      for j in range(disparity_range):\n",
        "        cost = max_val if (x - j) < 0 else l1_distance(int(left[y, x]), int(right[y, x - j]))\n",
        "        if cost < min_cost:\n",
        "          min_cost = cost\n",
        "          disparity = j\n",
        "\n",
        "      disparity_map[y, x] = disparity * scale # Update matrix with disparity where cos is the lowest\n",
        "\n",
        "  if save_result:\n",
        "    cv2.imwrite('pixel_wise_l2.png', disparity_map)\n",
        "    cv2.imwrite('pixel_wise_l2_color.png', cv2.applyColorMap(disparity_map, cv2.COLORMAP_JET))\n",
        "\n",
        "  return disparity_map"
      ],
      "metadata": {
        "id": "agSbc-udWmlE"
      },
      "execution_count": 26,
      "outputs": []
    },
    {
      "cell_type": "code",
      "source": [
        "left_img_path = 'tsukuba/left.png'\n",
        "right_img_path = 'tsukuba/right.png'\n",
        "disparity_range = 16\n",
        "\n",
        "depth_l1 = pixel_wise_matching_L1(left_img_path, right_img_path, disparity_range, save_result = True)\n",
        "depth_l2 = pixel_wise_matching_L2(left_img_path, right_img_path, disparity_range, save_result = True)\n",
        "\n",
        "cv2_imshow(depth_l1)\n",
        "cv2_imshow(cv2.applyColorMap(depth_l1, cv2.COLORMAP_JET))\n",
        "\n",
        "cv2_imshow(depth_l2)\n",
        "cv2_imshow(cv2.applyColorMap(depth_l1, cv2.COLORMAP_JET))"
      ],
      "metadata": {
        "id": "WxHcgnY6bLwC"
      },
      "execution_count": null,
      "outputs": []
    }
  ]
}